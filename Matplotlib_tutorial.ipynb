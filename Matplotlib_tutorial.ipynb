{
 "cells": [
  {
   "cell_type": "markdown",
   "metadata": {},
   "source": [
    "# Plotting and Mapping Earthquakes(!) with Python\n",
    "## Gina Schmalzle\n",
    "\n",
    "In this workshop we are going to look at actual earthquake locations in the Pacific Northwest, along with their estimated depths (how deep they were) and magnitudes (how strong they shook).\n",
    "\n",
    "A copy of this notebook and it's requirements are found in [this github repo](https://github.com/ginaschmalzle/girlswhocode_mapping_w_python).\n",
    "\n",
    "# Background\n",
    "\n",
    "The earth's crust is made up of tectonic plates that are slowly moving but get stuck at their edges due to friction. When the stress on the edge overcomes the friction, there is an earthquake that releases energy in waves that travel through the earth's crust and cause the shaking that we feel.  Everyday there are lots of little earthquakes that occur around the world.  Much less frequently are large earthquakes that we can feel and cause damage.\n",
    "\n",
    "Here is a map of the earth's major tectonic plates: \n",
    "\n",
    "<img src=files/TectonicPlates.jpg  height=\"500\" width=\"500\" > \n",
    "**[Figure 1.](http://www.sanandreasfault.org/Tectonics.html) Major tectonic plate of the world.**\n",
    "\n",
    "Sometimes these plates move apart, sometimes they slide past eachother, and sometimes one  slides under the other.  In the Pacific Northwest, we have the Juan de Fuca plate diving beneath the North America plate.  Below is a cartoon rendition that images how we think the Juan de Fuca plate is 'subducting' beneath the North America plate:\n",
    "\n",
    "<img src=files/CascadiaSubduction.png  height=\"500\" width=\"500\" > \n",
    "**[Figure 2.](http://www.earthmagazine.org/article/unlocking-cascadia-subduction-zones-secrets-peering-recent-research-and-findings) The Cascadia Subduction Zone.**\n",
    "\n",
    "### Where do you expect to see earthquakes?\n",
    "### Have you been in an earthquake?\n",
    "\n",
    "\n",
    "# Workshop Overview\n",
    "In this workshop we will learn how to make:\n",
    "1. Scatter Plots -- we will also learn how to change the attributes of the scatterplot.\n",
    "2. Histograms -- we will play around with how these look too.\n",
    "3. Maps!  We will also learn how to put data on maps too.\n",
    "\n",
    "The Python modules we will use are:\n",
    "1. pandas (dateframes)\n",
    "2. matplotlib (static plotting)\n",
    "\n",
    "# The Data \n",
    "\n",
    "We will be plotting earthquake locations, depths and magnitudes from 1906 to 2016 that occurred in the Pacific Northwest that have magnitudes greater than M2.5, retrieved from the USGS earthquake catalog (http://earthquake.usgs.gov/earthquakes/search/).\n"
   ]
  },
  {
   "cell_type": "markdown",
   "metadata": {},
   "source": [
    "Below is an example of the first few lines of 'eqs.csv', a comma separated value (csv) file:\n",
    "\n",
    "    time,latitude,longitude,depth,mag\n",
    "    2016-02-08T16:50:07.960000,46.116833299999996,-122.16266670000002,7.08,2.85\n",
    "    2016-02-08T02:12:35.220000,40.7853333,-123.49333329999999,21.27,2.99\n",
    "    2016-02-06T06:49:55.070000,40.3301667,-124.6306667,22.97,2.71\n",
    "    2016-02-05T22:13:02.370000,47.276166700000005,-122.2915,24.763,2.57\n",
    "    2016-02-02T14:28:34.810000,40.7206667,-121.52383329999999,5.9,3.08\n",
    "    2016-02-02T14:23:34.940000,40.719666700000005,-121.52266670000002,6.07,3.43\n",
    "    2016-02-01T12:38:20.610000,40.4118333,-125.30033329999999,10.77,2.74\n",
    "    2016-01-30T00:30:52.050000,41.005,-127.4447,10.0,4.9\n",
    "    2016-01-30T00:28:41.490000,40.8966,-127.2722,10.0,5.0\n"
   ]
  },
  {
   "cell_type": "markdown",
   "metadata": {},
   "source": [
    "# Retrieving the data "
   ]
  },
  {
   "cell_type": "markdown",
   "metadata": {},
   "source": [
    "First, let's Read the data. We will use the pandas module and import the data in as a dataframe.   "
   ]
  },
  {
   "cell_type": "code",
   "execution_count": null,
   "metadata": {
    "collapsed": false
   },
   "outputs": [],
   "source": [
    "# Import Pandas and pull csv data into dataframe\n",
    "import pandas as pd\n",
    "filename='eqs.csv'\n",
    "\n",
    "# Need to read in times which require special formatting\n",
    "dateparse = lambda x: pd.datetime.strptime(x[:-1], '%Y-%m-%dT%H:%M:%S.%f')\n",
    "\n",
    "# Read in dataframe\n",
    "eq_df = pd.read_csv(filename, parse_dates=['time'], date_parser=dateparse)"
   ]
  },
  {
   "cell_type": "code",
   "execution_count": null,
   "metadata": {
    "collapsed": false
   },
   "outputs": [],
   "source": [
    "eq_df"
   ]
  },
  {
   "cell_type": "markdown",
   "metadata": {},
   "source": [
    "You can get a list of column names by typing ```eq_df.columns```.  Try below."
   ]
  },
  {
   "cell_type": "code",
   "execution_count": null,
   "metadata": {
    "collapsed": false
   },
   "outputs": [],
   "source": [
    "eq_df.columns"
   ]
  },
  {
   "cell_type": "markdown",
   "metadata": {},
   "source": [
    "You can extract a single column of data by identifying the column name you want to look at.  For example, if you want to look at time, you can type ```eq_df['time']```. Try below."
   ]
  },
  {
   "cell_type": "code",
   "execution_count": null,
   "metadata": {
    "collapsed": true
   },
   "outputs": [],
   "source": []
  },
  {
   "cell_type": "markdown",
   "metadata": {},
   "source": [
    "# Plotting using Matplotlib"
   ]
  },
  {
   "cell_type": "code",
   "execution_count": null,
   "metadata": {
    "collapsed": false
   },
   "outputs": [],
   "source": [
    "%matplotlib inline \n",
    "import matplotlib as mpl\n",
    "import matplotlib.pyplot as plt\n",
    "from mpl_toolkits.basemap import Basemap\n",
    "import numpy as np"
   ]
  },
  {
   "cell_type": "markdown",
   "metadata": {},
   "source": [
    "## Setting figure parameters\n",
    "You can set figure parameters using rcParams. A list of parameters you can change are shown using the .keys() method:"
   ]
  },
  {
   "cell_type": "code",
   "execution_count": null,
   "metadata": {
    "collapsed": false
   },
   "outputs": [],
   "source": [
    "mpl.rcParams.keys()"
   ]
  },
  {
   "cell_type": "markdown",
   "metadata": {},
   "source": [
    "And you can see the value using the keys.  For example, if you want the resolution of your figure you would type:"
   ]
  },
  {
   "cell_type": "code",
   "execution_count": null,
   "metadata": {
    "collapsed": false
   },
   "outputs": [],
   "source": [
    "mpl.rcParams[u'figure.dpi']"
   ]
  },
  {
   "cell_type": "markdown",
   "metadata": {},
   "source": [
    "So let's ensure that our plots have good resolution and are fairly sizeable:"
   ]
  },
  {
   "cell_type": "code",
   "execution_count": null,
   "metadata": {
    "collapsed": false
   },
   "outputs": [],
   "source": [
    "mpl.rcParams[u'figure.figsize'] = [12, 8]\n",
    "mpl.rcParams[u'figure.dpi'] = 300"
   ]
  },
  {
   "cell_type": "markdown",
   "metadata": {},
   "source": [
    "# Histograms!\n",
    "Let's look a how many earthquakes are between Magnitude 2.5-3, 3-3.5, 3.5-4, etc.  You can look at this distribution by using a **histogram**.  A histogram will separate the magnitudes of our earthquake dataset into 'bins', and count how many earthquakes are in each bin.  The matplotlib pyplot method we will use is hist."
   ]
  },
  {
   "cell_type": "code",
   "execution_count": null,
   "metadata": {
    "collapsed": false
   },
   "outputs": [],
   "source": [
    "plt.hist(eq_df['mag']) \n",
    "# Let's also include x and y labels and a title\n",
    "plt.ylabel ('Counts')\n",
    "plt.xlabel('Magnitude')\n",
    "plt.title('Histogram of {0}'.format('Magnitude'))\n",
    "# The plt.show() method will allow you to display the figure\n",
    "plt.show()"
   ]
  },
  {
   "cell_type": "markdown",
   "metadata": {},
   "source": [
    "Note that the number of really small earthquakes is really large, then there is a quick drop off the to number of earthquakes the larger in Magnitude they become (phew!).  In seismology, this phenomenon is known as the [Gutenberg-Richter Law](https://en.wikipedia.org/wiki/Gutenberg%E2%80%93Richter_law). \n",
    "\n",
    "Now let's jazz it up...\n",
    "\n",
    "Let's increase the number of bins to 50. Let's also change the color of the bars and make them a little translucent."
   ]
  },
  {
   "cell_type": "code",
   "execution_count": null,
   "metadata": {
    "collapsed": false
   },
   "outputs": [],
   "source": [
    "plt.hist(eq_df['mag'], bins = 50, color='green', alpha=0.2)\n",
    "plt.ylabel ('Counts')\n",
    "plt.xlabel('Magnitude')\n",
    "plt.title('Histogram of {0}'.format('Magnitude'))\n",
    "plt.show()"
   ]
  },
  {
   "cell_type": "markdown",
   "metadata": {},
   "source": [
    "Pyplot histograms, like subplots, return objects that contain information about them.  Let's explore.  For this example, I am using only 10 bins."
   ]
  },
  {
   "cell_type": "code",
   "execution_count": null,
   "metadata": {
    "collapsed": false
   },
   "outputs": [],
   "source": [
    "n, bins, patches = plt.hist(eq_df['mag'], bins = 10, color='green', alpha=0.2)"
   ]
  },
  {
   "cell_type": "code",
   "execution_count": null,
   "metadata": {
    "collapsed": false
   },
   "outputs": [],
   "source": [
    "# n are the number of counts\n",
    "n"
   ]
  },
  {
   "cell_type": "code",
   "execution_count": null,
   "metadata": {
    "collapsed": false
   },
   "outputs": [],
   "source": [
    "# bins are the x-left-centered location of the bins\n",
    "bins"
   ]
  },
  {
   "cell_type": "code",
   "execution_count": null,
   "metadata": {
    "collapsed": false
   },
   "outputs": [],
   "source": [
    "# And patches are a list of the matplotlib rectangle shapes that make \n",
    "# the bins.\n",
    "patches"
   ]
  },
  {
   "cell_type": "markdown",
   "metadata": {},
   "source": [
    "## Scatter Plots\n",
    "The scatter method takes in x and y values in list or array format.  Maybe you want to see earthquake magnitude over time.  You will need to convert the date format we imported into the pandas dataframe into python's datetime.date() format.  "
   ]
  },
  {
   "cell_type": "code",
   "execution_count": null,
   "metadata": {
    "collapsed": false
   },
   "outputs": [],
   "source": [
    "plt.scatter([dt.date() for dt in eq_df['time']], eq_df['mag'])"
   ]
  },
  {
   "cell_type": "markdown",
   "metadata": {},
   "source": [
    "*Interesting piece of history*: Prior to ~1970, the only earthquakes recorded were > M5.  Far less earthquakes were also recorded.  This is about the time seimic records were [recorded digitally](https://en.wikipedia.org/wiki/Seismometer#Recording), rather than being read by hand. This allowed for better and faster estimates of earthquakes around the world.\n",
    "\n",
    "We are interested in plotting maps here, so let's just for fun, plot longitude and latitude on a scatter plot:"
   ]
  },
  {
   "cell_type": "code",
   "execution_count": null,
   "metadata": {
    "collapsed": false
   },
   "outputs": [],
   "source": [
    "plt.scatter(eq_df['longitude'], eq_df['latitude'])\n",
    "plt.show()"
   ]
  },
  {
   "cell_type": "markdown",
   "metadata": {},
   "source": [
    "You can change the [color and shape of markers in the plots](http://matplotlib.org/api/pyplot_api.html).  For example, we can change the round blue markers above to large green stars:"
   ]
  },
  {
   "cell_type": "code",
   "execution_count": null,
   "metadata": {
    "collapsed": false
   },
   "outputs": [],
   "source": [
    "plt.scatter(eq_df['longitude'], eq_df['latitude'], color = 'green', marker = '*', s=200)\n",
    "# s is the size of the marker in points\n",
    "plt.show()"
   ]
  },
  {
   "cell_type": "markdown",
   "metadata": {},
   "source": [
    "Labels, labels, labels!  How is one to know what you just plotted?  Let's add the axes labels and the title"
   ]
  },
  {
   "cell_type": "code",
   "execution_count": null,
   "metadata": {
    "collapsed": false
   },
   "outputs": [],
   "source": [
    "plt.scatter(eq_df['longitude'], eq_df['latitude'], color = 'green', marker = '*', s=20)\n",
    "plt.ylabel ('Latitude (deg N)')\n",
    "plt.xlabel ('Longitude (deg W)')\n",
    "plt.title ('Earthquakes 1906-Present')\n",
    "plt.show()"
   ]
  },
  {
   "cell_type": "markdown",
   "metadata": {},
   "source": [
    "# Coloring Points in a Scatter Plot\n",
    "Let's try again, but this time, let's color the dots in the plot above by their depths."
   ]
  },
  {
   "cell_type": "code",
   "execution_count": null,
   "metadata": {
    "collapsed": false
   },
   "outputs": [],
   "source": [
    "color_by = 'depth'\n",
    "# Find the min and max \n",
    "max_color_by = max(eq_df[color_by])\n",
    "min_color_by = min(eq_df[color_by])\n",
    "\n",
    "fig, ax = plt.subplots()\n",
    "#plt.subplots() method returns a tuple containing \n",
    "#figure and axes object(s). When using fig, ax = plt.subplots() \n",
    "#you unpack the tuple into the variables fig and ax. The fig object is \n",
    "#useful if you want to change figure-level attributes or save the \n",
    "#figure as an image file later (e.g. with fig.savefig('yourfilename.png').\n",
    "#The axes objects contain the plotting methods that we will use to build \n",
    "#our plot.\n",
    "\n",
    "s = ax.scatter(eq_df['longitude'], eq_df['latitude'],   \n",
    "                c=eq_df[color_by],            # c defines the range of values being colored\n",
    "                s=50,                         # s is the marker size\n",
    "                marker='o',                   # Defines the markers as circles\n",
    "                linewidths=0,                 # Remove marker outlines\n",
    "                cmap = plt.cm.coolwarm,       # Coolwarm Color  palette (http://matplotlib.org/1.2.1/examples/pylab_examples/show_colormaps.html)\n",
    "                vmin = min_color_by,          # Min value  \n",
    "                vmax = max_color_by)          # Max value\n",
    "\n",
    "# Now let's make a colorbar for reference\n",
    "cbar = plt.colorbar(mappable = s)   # Mappable 'maps' the values of s to an array of RGB colors defined by a color palette\n",
    "cbar.set_label(color_by)  # Set colorbar label\n",
    "plt.xlabel('Longitude, Deg W')\n",
    "plt.ylabel('Latitude, Deg N')\n",
    "plt.title('Earthquakes colored by {0}'.format(color_by))\n",
    "plt.show()"
   ]
  },
  {
   "cell_type": "markdown",
   "metadata": {},
   "source": [
    "### Question 1:  How do you change the plot above to color by magnitude?\n",
    "### Question 2:  How would you change the color palette? Try it!\n",
    "### Question 3:  How would you make the circles slightly transparent?   Hint: an example of transparent circles are found here: http://matplotlib.org/examples/shapes_and_collections/scatter_demo.html  "
   ]
  },
  {
   "cell_type": "markdown",
   "metadata": {},
   "source": [
    "# Geographic Mapping\n",
    "\n",
    "Geographic maps of the earth (or any round object) provides a two-dimensional view of that object. Depending on the **projection** of the map, this could allow the observer to see the entire earth at once, rather than being confined to visualizing only one part of the globe at a time.  The trick is geometrically 'mapping' places on a round object to a flat surface.  \n",
    "\n",
    "### Projections\n",
    "\n",
    "Map projections are systematic mapping of a round surface to a flat surface.  There are many types of projections, a few we will see below.  For the round earth, each projection method needs to distort some part of it in order to make it flat.  We will see what this means in the next few exercises.\n",
    "\n",
    "### Now, let's get mapping!\n",
    "We will be using [Matplotlib's basemap](http://matplotlib.org/basemap/).  Basemap was imported in the second cell of this notebook.\n",
    "\n",
    "#### Robinson Projection\n",
    "The [Robinson projection](https://en.wikipedia.org/wiki/Robinson_projection) is commonly used to show all the landmasses of the earth at once.  The Robinson projection has pretty severe distortion at the poles, but quickly reduces to more moderate distortion as the map get closer to the equator.  \n",
    "\n",
    "Using basemap, you will need to specify the longitude you want the projection to be centered at, and the resolution of your map.  A resolution of 'c' means use crude resolution coastlines. This next section was taken from the [basemap docs](http://matplotlib.org/basemap/users/robin.html)."
   ]
  },
  {
   "cell_type": "code",
   "execution_count": null,
   "metadata": {
    "collapsed": false,
    "scrolled": true
   },
   "outputs": [],
   "source": [
    "# Using basemap, define the projection, scale, the corners of the map, and the resolution and \n",
    "# assign the return object the variable name m.\n",
    "m = Basemap(projection='robin',lon_0=0,resolution='c')\n",
    "# Draw the coastlines\n",
    "m.drawcoastlines()\n",
    "# Color the continents\n",
    "m.fillcontinents(color='coral',lake_color='aqua')\n",
    "# draw parallels and meridians.\n",
    "m.drawparallels(np.arange(-90.,91.,30.))\n",
    "m.drawmeridians(np.arange(-180.,181.,60.))\n",
    "# fill in the oceans \n",
    "m.drawmapboundary(fill_color='aqua')\n",
    "plt.title(\"Robinson Projection\")\n",
    "plt.show()"
   ]
  },
  {
   "cell_type": "markdown",
   "metadata": {},
   "source": [
    "### Question 4:   How do you rotate this map so that it is centered over the Pacific Northwest (longitude = -119 W?)"
   ]
  },
  {
   "cell_type": "markdown",
   "metadata": {},
   "source": [
    "#### Mercator Projection\n",
    "Let's make a simple [Mercator Projection Map](https://en.wikipedia.org/wiki/Mercator_projection).  [From Wiki](https://en.wikipedia.org/wiki/Mercator_projection) -- *The Mercator projection distorts the size of objects as the latitude increases from the Equator to the poles, where the scale becomes infinite. So, for example, landmasses such as Greenland and Antarctica appear much larger than they actually are relative to land masses near the equator, such as Central Africa.*  The code in the next cell is straight from the [Basemap example section](http://matplotlib.org/basemap/users/merc.html).\n",
    "\n",
    "**llcrnrlat, llcrnrlon, urcrnrlat and urcrnrlon** are the lat/lon values of the lower left (ll) and upper right (ur) corners of the map.  "
   ]
  },
  {
   "cell_type": "code",
   "execution_count": null,
   "metadata": {
    "collapsed": false
   },
   "outputs": [],
   "source": [
    "# Using basemap, define the projection, scale, the corners of the map, and the resolution and \n",
    "# assign the return object the variable name m.\n",
    "m = Basemap(projection='merc',llcrnrlat=-80,urcrnrlat=80,\\\n",
    "            llcrnrlon=-180,urcrnrlon=180,resolution='c')\n",
    "# Draw the coastlines\n",
    "m.drawcoastlines()\n",
    "# Color the continents\n",
    "m.fillcontinents(color='coral',lake_color='aqua')\n",
    "# draw parallels and meridians.\n",
    "m.drawparallels(np.arange(-90.,91.,30.))\n",
    "m.drawmeridians(np.arange(-180.,181.,60.))\n",
    "# fill in the oceans \n",
    "m.drawmapboundary(fill_color='aqua')\n",
    "plt.title(\"Mercator Projection\")\n",
    "plt.show()"
   ]
  },
  {
   "cell_type": "markdown",
   "metadata": {},
   "source": [
    "### Question 5:  What are some key differences between the Robinson and Mercator projections?  \n",
    "\n",
    "### Question 6:  Follow the directions below:\n",
    "\n",
    "The cell below contains the same code as the previous cell.  Please:\n",
    "\n",
    "1. Change the area to map only map the Pacific Northwest (Latitudes = 38-52 deg North; Longitudes = -135 to -118 deg West)\n",
    "2. Increase the resolution to intermediate ('i')\n",
    "3. Change the ocean and lake colors to white and land color to grey\n",
    "4. Redraw parallels and meridians to every 5 degrees"
   ]
  },
  {
   "cell_type": "code",
   "execution_count": null,
   "metadata": {
    "collapsed": false
   },
   "outputs": [],
   "source": [
    "# Using basemap, define the projection, scale, the corners of the map, and the resolution and \n",
    "# assign the return object the variable name m.\n",
    "m = Basemap(projection='merc',llcrnrlat=-80,urcrnrlat=80,\\\n",
    "            llcrnrlon=-180,urcrnrlon=180,resolution='c')\n",
    "# Draw the coastlines\n",
    "m.drawcoastlines()\n",
    "# Color the continents\n",
    "m.fillcontinents(color='coral',lake_color='aqua')\n",
    "# draw parallels and meridians.\n",
    "m.drawparallels(np.arange(-90.,91.,30.))\n",
    "m.drawmeridians(np.arange(-180.,181.,60.))\n",
    "# fill in the oceans \n",
    "m.drawmapboundary(fill_color='aqua')\n",
    "plt.title(\"Mercator Projection\")\n",
    "plt.show()"
   ]
  },
  {
   "cell_type": "markdown",
   "metadata": {},
   "source": [
    "Now let's bring in the earthquake data!"
   ]
  },
  {
   "cell_type": "code",
   "execution_count": null,
   "metadata": {
    "collapsed": false
   },
   "outputs": [],
   "source": [
    "# Using basemap, define the projection, scale, the corners of the map, and the resolution and \n",
    "# assign the return object the variable name m.\n",
    "m = Basemap(projection='merc',llcrnrlat=38,urcrnrlat=52,\\\n",
    "            llcrnrlon=-135,urcrnrlon=-118,resolution='i')\n",
    "# Draw the coastlines\n",
    "m.drawcoastlines()\n",
    "# Color the continents\n",
    "# Bug in drawcoastlines does not allow points mapped above land. We use drawlsmask instead.\n",
    "m.drawlsmask(land_color='0.8', ocean_color='w')   \n",
    "# draw parallels and meridians.\n",
    "m.drawparallels(np.arange(-90.,91.,5.))\n",
    "m.drawmeridians(np.arange(-180.,181.,5.))\n",
    "plt.title(\"Earthquakes\")\n",
    "# Transform long and lat to the map projection\n",
    "# Each lat and long value in the maps above are 'mapped' to specific pixels that make up the image\n",
    "# The mapping, defined by the projection used, needs to also be done on the data set.\n",
    "x,y = m(eq_df['longitude'].values, eq_df['latitude'].values)  \n",
    "# Now you can use the plt.scatter method to plot your data!\n",
    "plt.scatter(x,y)\n",
    "plt.show()"
   ]
  },
  {
   "cell_type": "markdown",
   "metadata": {},
   "source": [
    "Now let's color the earthquakes by depth.  Modifying the code above:"
   ]
  },
  {
   "cell_type": "code",
   "execution_count": null,
   "metadata": {
    "collapsed": false
   },
   "outputs": [],
   "source": [
    "# Using basemap, define the projection, scale, the corners of the map, and the resolution and \n",
    "# assign the return object the variable name m.\n",
    "m = Basemap(projection='merc',llcrnrlat=38,urcrnrlat=52,\\\n",
    "            llcrnrlon=-135,urcrnrlon=-118,resolution='i')\n",
    "# Draw the coastlines\n",
    "m.drawcoastlines()\n",
    "# Color the continents\n",
    "# Bug in drawcoastlines does not allow points mapped above land. We use drawlsmask instead.\n",
    "m.drawlsmask(land_color='0.8', ocean_color='w')   \n",
    "# draw parallels and meridians.\n",
    "m.drawparallels(np.arange(-90.,91.,5.))\n",
    "m.drawmeridians(np.arange(-180.,181.,5.))\n",
    "plt.title(\"Earthquakes\")\n",
    "# Transform long and lat to the map projection\n",
    "x,y = m(eq_df['longitude'].values, eq_df['latitude'].values)  \n",
    "\n",
    "# Define your colormap\n",
    "coolwarm = plt.cm.get_cmap('coolwarm')\n",
    "# The scatter plot method allows you to define the min and max value of your color set (vmin and vmax),\n",
    "# as well as the colormap you defined in the line above.  We will give the plt.scatter object a variable\n",
    "# name that we will use later to add the color bar to it.\n",
    "colorby = 'depth'\n",
    "sc = plt.scatter(x,y, c=eq_df[colorby].values, vmin=eq_df[colorby].min(), vmax =eq_df[colorby].max(), cmap=coolwarm, s=20, edgecolors='none')\n",
    "cbar = plt.colorbar(sc, shrink = .5)\n",
    "cbar.set_label(colorby)\n",
    "plt.show()"
   ]
  },
  {
   "cell_type": "markdown",
   "metadata": {},
   "source": [
    "Now instead of drawing coastlines, let's try using topography imagery from [etopo](http://www.earthmodels.org/data-and-tools/topography/etopo), built into the basemap package.  For now we will omit the earthquake data:"
   ]
  },
  {
   "cell_type": "code",
   "execution_count": null,
   "metadata": {
    "collapsed": false
   },
   "outputs": [],
   "source": [
    "# Using basemap, define the projection, scale, the corners of the map, and the resolution and \n",
    "# assign the return object the variable name m.\n",
    "m = Basemap(projection='merc',llcrnrlat=38,urcrnrlat=52,\\\n",
    "            llcrnrlon=-135,urcrnrlon=-118,lat_ts=20,resolution='i')\n",
    "# Map topography\n",
    "m.etopo(alpha=1, scale = 0.5)\n",
    "m.drawcoastlines()\n",
    "m.drawparallels(np.arange(-90.,91.,5.))\n",
    "m.drawmeridians(np.arange(-180.,181.,5.))\n",
    "plt.show()"
   ]
  },
  {
   "cell_type": "markdown",
   "metadata": {},
   "source": [
    "Now let's plot our earthquakes!  Let's also increase the transparency of our etopo data."
   ]
  },
  {
   "cell_type": "code",
   "execution_count": null,
   "metadata": {
    "collapsed": false
   },
   "outputs": [],
   "source": [
    "# Using basemap, define the projection, scale, the corners of the map, and the resolution and \n",
    "# assign the return object the variable name m.\n",
    "m = Basemap(projection='merc',llcrnrlat=38,urcrnrlat=52,\\\n",
    "            llcrnrlon=-135,urcrnrlon=-118,lat_ts=20,resolution='i')\n",
    "# Map topography\n",
    "m.etopo(alpha=.6, scale = 0.5)\n",
    "m.drawcoastlines()\n",
    "# m.etopo()  # Resolution can change with 'scale' \n",
    "m.drawparallels(np.arange(-90.,91.,5.))\n",
    "m.drawmeridians(np.arange(-180.,181.,5.))\n",
    "plt.title(\"Earthquakes\")\n",
    "#Transform long and lat to the map projection\n",
    "x,y = m(eq_df['longitude'].values, eq_df['latitude'].values)  \n",
    "# Note I'm using a different color palette!  \n",
    "# http://matplotlib.org/examples/color/colormaps_reference.html\n",
    "jet = plt.cm.get_cmap('jet')\n",
    "sc = plt.scatter(x,y, c=eq_df['depth'].values, vmin=0, vmax =75, cmap=jet, s=20, edgecolors='none')\n",
    "cbar = plt.colorbar(sc, shrink = .5)\n",
    "cbar.set_label('depth')\n",
    "plt.show()"
   ]
  },
  {
   "cell_type": "markdown",
   "metadata": {},
   "source": [
    "### Question 7:  Some of the deepest earthquakes on this map are show under where we live!  Why do you think that is?"
   ]
  }
 ],
 "metadata": {
  "kernelspec": {
   "display_name": "Python 2",
   "language": "python",
   "name": "python2"
  },
  "language_info": {
   "codemirror_mode": {
    "name": "ipython",
    "version": 2
   },
   "file_extension": ".py",
   "mimetype": "text/x-python",
   "name": "python",
   "nbconvert_exporter": "python",
   "pygments_lexer": "ipython2",
   "version": "2.7.6"
  }
 },
 "nbformat": 4,
 "nbformat_minor": 0
}
